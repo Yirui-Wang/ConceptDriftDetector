{
 "cells": [
  {
   "cell_type": "code",
   "execution_count": 1,
   "metadata": {},
   "outputs": [
    {
     "name": "stderr",
     "output_type": "stream",
     "text": [
      "Using TensorFlow backend.\n"
     ]
    }
   ],
   "source": [
    "import keras\n",
    "from keras.datasets import mnist\n",
    "from keras.models import Sequential, Model\n",
    "from keras.layers import Dense, Dropout, Flatten\n",
    "from keras.layers import Conv2D, MaxPooling2D\n",
    "from keras import backend as K\n",
    "\n",
    "batch_size = 128\n",
    "num_classes = 10\n",
    "epochs = 12\n",
    "\n",
    "# input image dimensions\n",
    "img_rows, img_cols = 28, 28"
   ]
  },
  {
   "cell_type": "code",
   "execution_count": 2,
   "metadata": {
    "scrolled": true
   },
   "outputs": [
    {
     "name": "stdout",
     "output_type": "stream",
     "text": [
      "x_train shape: (60000, 28, 28, 1)\n",
      "60000 train samples\n",
      "10000 test samples\n"
     ]
    }
   ],
   "source": [
    "# the data, split between train and test sets\n",
    "(x_train, y_train), (x_test, y_test) = mnist.load_data()\n",
    "\n",
    "if K.image_data_format() == 'channels_first':\n",
    "    x_train = x_train.reshape(x_train.shape[0], 1, img_rows, img_cols)\n",
    "    x_test = x_test.reshape(x_test.shape[0], 1, img_rows, img_cols)\n",
    "    input_shape = (1, img_rows, img_cols)\n",
    "else:\n",
    "    x_train = x_train.reshape(x_train.shape[0], img_rows, img_cols, 1)\n",
    "    x_test = x_test.reshape(x_test.shape[0], img_rows, img_cols, 1)\n",
    "    input_shape = (img_rows, img_cols, 1)\n",
    "\n",
    "x_train = x_train.astype('float32')\n",
    "x_test = x_test.astype('float32')\n",
    "x_train /= 255\n",
    "x_test /= 255\n",
    "print('x_train shape:', x_train.shape)\n",
    "print(x_train.shape[0], 'train samples')\n",
    "print(x_test.shape[0], 'test samples')\n",
    "\n",
    "# convert class vectors to binary class matrices\n",
    "y_train = keras.utils.to_categorical(y_train, num_classes)\n",
    "y_test = keras.utils.to_categorical(y_test, num_classes)"
   ]
  },
  {
   "cell_type": "code",
   "execution_count": 3,
   "metadata": {},
   "outputs": [
    {
     "name": "stdout",
     "output_type": "stream",
     "text": [
      "Train on 60000 samples, validate on 10000 samples\n",
      "Epoch 1/12\n",
      "60000/60000 [==============================] - 8s 130us/step - loss: 0.2676 - acc: 0.9172 - val_loss: 0.0651 - val_acc: 0.9798\n",
      "Epoch 2/12\n",
      "60000/60000 [==============================] - 4s 71us/step - loss: 0.0926 - acc: 0.9727 - val_loss: 0.0415 - val_acc: 0.9865\n",
      "Epoch 3/12\n",
      "60000/60000 [==============================] - 4s 70us/step - loss: 0.0662 - acc: 0.9799 - val_loss: 0.0320 - val_acc: 0.9898\n",
      "Epoch 4/12\n",
      "60000/60000 [==============================] - 4s 73us/step - loss: 0.0546 - acc: 0.9839 - val_loss: 0.0333 - val_acc: 0.9889\n",
      "Epoch 5/12\n",
      "60000/60000 [==============================] - 4s 70us/step - loss: 0.0478 - acc: 0.9856 - val_loss: 0.0279 - val_acc: 0.9907\n",
      "Epoch 6/12\n",
      "60000/60000 [==============================] - 5s 75us/step - loss: 0.0421 - acc: 0.9870 - val_loss: 0.0294 - val_acc: 0.9907\n",
      "Epoch 7/12\n",
      "60000/60000 [==============================] - 4s 69us/step - loss: 0.0385 - acc: 0.9884 - val_loss: 0.0322 - val_acc: 0.9890\n",
      "Epoch 8/12\n",
      "60000/60000 [==============================] - 4s 71us/step - loss: 0.0354 - acc: 0.9891 - val_loss: 0.0262 - val_acc: 0.9917\n",
      "Epoch 9/12\n",
      "60000/60000 [==============================] - 4s 71us/step - loss: 0.0328 - acc: 0.9897 - val_loss: 0.0295 - val_acc: 0.9911\n",
      "Epoch 10/12\n",
      "60000/60000 [==============================] - 4s 73us/step - loss: 0.0293 - acc: 0.9903 - val_loss: 0.0288 - val_acc: 0.9914\n",
      "Epoch 11/12\n",
      "60000/60000 [==============================] - 4s 75us/step - loss: 0.0288 - acc: 0.9905 - val_loss: 0.0249 - val_acc: 0.9920\n",
      "Epoch 12/12\n",
      "60000/60000 [==============================] - 4s 70us/step - loss: 0.0276 - acc: 0.9916 - val_loss: 0.0297 - val_acc: 0.9915\n"
     ]
    },
    {
     "data": {
      "text/plain": [
       "<keras.callbacks.History at 0x7f5d8e8946d8>"
      ]
     },
     "execution_count": 3,
     "metadata": {},
     "output_type": "execute_result"
    }
   ],
   "source": [
    "model = Sequential()\n",
    "model.add(Conv2D(32, kernel_size=(3, 3), activation='relu', input_shape=input_shape))\n",
    "model.add(Conv2D(64, (3, 3), activation='relu'))\n",
    "model.add(MaxPooling2D(pool_size=(2, 2)))\n",
    "model.add(Dropout(0.25))\n",
    "model.add(Flatten())\n",
    "model.add(Dense(128, activation='relu'))\n",
    "model.add(Dropout(0.5))\n",
    "model.add(Dense(num_classes, activation='softmax', name='softmax'))\n",
    "\n",
    "model.compile(loss=keras.losses.categorical_crossentropy,\n",
    "              optimizer=keras.optimizers.Adadelta(),\n",
    "              metrics=['accuracy'])\n",
    "\n",
    "model.fit(x_train, y_train,\n",
    "          batch_size=batch_size,\n",
    "          epochs=epochs,\n",
    "          verbose=1,\n",
    "          validation_data=(x_test, y_test))"
   ]
  },
  {
   "cell_type": "code",
   "execution_count": 4,
   "metadata": {
    "scrolled": true
   },
   "outputs": [
    {
     "name": "stdout",
     "output_type": "stream",
     "text": [
      "Test loss: 0.029718190783891714\n",
      "Test accuracy: 0.9915\n"
     ]
    }
   ],
   "source": [
    "score = model.evaluate(x_test, y_test, verbose=0)\n",
    "print('Test loss:', score[0])\n",
    "print('Test accuracy:', score[1])"
   ]
  },
  {
   "cell_type": "code",
   "execution_count": 5,
   "metadata": {
    "scrolled": true
   },
   "outputs": [
    {
     "name": "stdout",
     "output_type": "stream",
     "text": [
      "[0.         3.1555204  0.88422316 3.3304408  3.5427783  0.\n",
      " 0.         0.         0.         0.         2.2755086  2.3678286\n",
      " 2.96183    3.0653875  0.         2.6254761  3.2380068  0.6621514\n",
      " 2.2726061  2.3673325  0.07525501 0.         0.         0.\n",
      " 0.         0.         3.5920537  0.         2.4704273  0.\n",
      " 0.         0.         0.4689314  0.         0.         0.\n",
      " 2.0885148  4.279175   0.         0.         2.4762108  1.396523\n",
      " 0.         2.7171915  3.2170427  0.         1.2271743  0.\n",
      " 2.7732286  0.         3.4581735  0.         0.         0.\n",
      " 1.9460359  0.         0.         0.         0.         0.\n",
      " 0.         0.         1.1882896  0.         2.4693384  0.\n",
      " 4.59147    0.         0.         0.         0.         3.5109847\n",
      " 1.6557801  2.9077704  0.         0.02174229 0.         1.4258459\n",
      " 0.         0.         0.         0.         0.         0.\n",
      " 1.8940178  0.         1.1594077  3.625082   0.         0.\n",
      " 0.         0.         0.         0.         3.4558775  0.\n",
      " 0.         0.         2.2571235  0.         0.         0.\n",
      " 1.6091087  0.         0.         1.3296674  0.         2.9459407\n",
      " 4.099794   0.         3.5683866  0.         0.         0.\n",
      " 0.         0.         0.         1.5073948  0.         0.\n",
      " 1.4678514  0.         0.         0.         0.         0.\n",
      " 0.         0.        ]\n"
     ]
    }
   ],
   "source": [
    "encode_model = Model(inputs=model.input, outputs=model.get_layer('softmax').input)\n",
    "hidden_representation = encode_model.predict(x_test)\n",
    "print(hidden_representation[0])"
   ]
  }
 ],
 "metadata": {
  "kernelspec": {
   "display_name": "Python 3",
   "language": "python",
   "name": "python3"
  },
  "language_info": {
   "codemirror_mode": {
    "name": "ipython",
    "version": 3
   },
   "file_extension": ".py",
   "mimetype": "text/x-python",
   "name": "python",
   "nbconvert_exporter": "python",
   "pygments_lexer": "ipython3",
   "version": "3.6.8"
  }
 },
 "nbformat": 4,
 "nbformat_minor": 2
}
