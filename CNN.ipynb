{
 "cells": [
  {
   "cell_type": "code",
   "execution_count": 8,
   "metadata": {},
   "outputs": [],
   "source": [
    "import keras\n",
    "from keras.datasets import mnist\n",
    "from keras.models import Sequential, Model\n",
    "from keras.layers import Dense, Dropout, Flatten\n",
    "from keras.layers import Conv2D, MaxPooling2D\n",
    "from keras import backend as K\n",
    "\n",
    "batch_size = 128\n",
    "num_classes = 10\n",
    "epochs = 12\n",
    "\n",
    "# input image dimensions\n",
    "img_rows, img_cols = 28, 28"
   ]
  },
  {
   "cell_type": "code",
   "execution_count": 3,
   "metadata": {
    "scrolled": true
   },
   "outputs": [
    {
     "name": "stdout",
     "output_type": "stream",
     "text": [
      "x_train shape: (60000, 28, 28, 1)\n",
      "60000 train samples\n",
      "10000 test samples\n"
     ]
    }
   ],
   "source": [
    "# the data, split between train and test sets\n",
    "(x_train, y_train), (x_test, y_test) = mnist.load_data()\n",
    "\n",
    "if K.image_data_format() == 'channels_first':\n",
    "    x_train = x_train.reshape(x_train.shape[0], 1, img_rows, img_cols)\n",
    "    x_test = x_test.reshape(x_test.shape[0], 1, img_rows, img_cols)\n",
    "    input_shape = (1, img_rows, img_cols)\n",
    "else:\n",
    "    x_train = x_train.reshape(x_train.shape[0], img_rows, img_cols, 1)\n",
    "    x_test = x_test.reshape(x_test.shape[0], img_rows, img_cols, 1)\n",
    "    input_shape = (img_rows, img_cols, 1)\n",
    "\n",
    "x_train = x_train.astype('float32')\n",
    "x_test = x_test.astype('float32')\n",
    "x_train /= 255\n",
    "x_test /= 255\n",
    "print('x_train shape:', x_train.shape)\n",
    "print(x_train.shape[0], 'train samples')\n",
    "print(x_test.shape[0], 'test samples')\n",
    "\n",
    "# convert class vectors to binary class matrices\n",
    "y_train = keras.utils.to_categorical(y_train, num_classes)\n",
    "y_test = keras.utils.to_categorical(y_test, num_classes)"
   ]
  },
  {
   "cell_type": "code",
   "execution_count": 4,
   "metadata": {},
   "outputs": [
    {
     "name": "stdout",
     "output_type": "stream",
     "text": [
      "Train on 60000 samples, validate on 10000 samples\n",
      "Epoch 1/12\n",
      "60000/60000 [==============================] - 7s 121us/step - loss: 0.2691 - acc: 0.9168 - val_loss: 0.0590 - val_acc: 0.9817\n",
      "Epoch 2/12\n",
      "60000/60000 [==============================] - 4s 72us/step - loss: 0.0904 - acc: 0.9732 - val_loss: 0.0457 - val_acc: 0.9857\n",
      "Epoch 3/12\n",
      "60000/60000 [==============================] - 4s 71us/step - loss: 0.0684 - acc: 0.9792 - val_loss: 0.0374 - val_acc: 0.9868\n",
      "Epoch 4/12\n",
      "60000/60000 [==============================] - 4s 74us/step - loss: 0.0578 - acc: 0.9827 - val_loss: 0.0315 - val_acc: 0.9896\n",
      "Epoch 5/12\n",
      "60000/60000 [==============================] - 4s 71us/step - loss: 0.0491 - acc: 0.9859 - val_loss: 0.0358 - val_acc: 0.9889\n",
      "Epoch 6/12\n",
      "60000/60000 [==============================] - 4s 70us/step - loss: 0.0445 - acc: 0.9868 - val_loss: 0.0314 - val_acc: 0.9896\n",
      "Epoch 7/12\n",
      "60000/60000 [==============================] - 4s 71us/step - loss: 0.0383 - acc: 0.9884 - val_loss: 0.0339 - val_acc: 0.9889\n",
      "Epoch 8/12\n",
      "60000/60000 [==============================] - 4s 73us/step - loss: 0.0346 - acc: 0.9894 - val_loss: 0.0309 - val_acc: 0.9902\n",
      "Epoch 9/12\n",
      "60000/60000 [==============================] - 4s 73us/step - loss: 0.0331 - acc: 0.9899 - val_loss: 0.0328 - val_acc: 0.9899\n",
      "Epoch 10/12\n",
      "60000/60000 [==============================] - 4s 71us/step - loss: 0.0308 - acc: 0.9905 - val_loss: 0.0311 - val_acc: 0.9907\n",
      "Epoch 11/12\n",
      "60000/60000 [==============================] - 4s 71us/step - loss: 0.0297 - acc: 0.9911 - val_loss: 0.0268 - val_acc: 0.9910\n",
      "Epoch 12/12\n",
      "60000/60000 [==============================] - 4s 71us/step - loss: 0.0273 - acc: 0.9912 - val_loss: 0.0272 - val_acc: 0.9919\n"
     ]
    },
    {
     "data": {
      "text/plain": [
       "<keras.callbacks.History at 0x7fd57c3b7c88>"
      ]
     },
     "execution_count": 4,
     "metadata": {},
     "output_type": "execute_result"
    }
   ],
   "source": [
    "model = Sequential()\n",
    "model.add(Conv2D(32, kernel_size=(3, 3), activation='relu', input_shape=input_shape))\n",
    "model.add(Conv2D(64, (3, 3), activation='relu'))\n",
    "model.add(MaxPooling2D(pool_size=(2, 2)))\n",
    "model.add(Dropout(0.25))\n",
    "model.add(Flatten())\n",
    "model.add(Dense(128, activation='relu'))\n",
    "model.add(Dropout(0.5))\n",
    "model.add(Dense(num_classes, activation='softmax', name='softmax'))\n",
    "\n",
    "model.compile(loss=keras.losses.categorical_crossentropy,\n",
    "              optimizer=keras.optimizers.Adadelta(),\n",
    "              metrics=['accuracy'])\n",
    "\n",
    "model.fit(x_train, y_train,\n",
    "          batch_size=batch_size,\n",
    "          epochs=epochs,\n",
    "          verbose=1,\n",
    "          validation_data=(x_test, y_test))"
   ]
  },
  {
   "cell_type": "code",
   "execution_count": 5,
   "metadata": {
    "scrolled": true
   },
   "outputs": [
    {
     "name": "stdout",
     "output_type": "stream",
     "text": [
      "Test loss: 0.027231990043682527\n",
      "Test accuracy: 0.9919\n"
     ]
    }
   ],
   "source": [
    "score = model.evaluate(x_test, y_test, verbose=0)\n",
    "print('Test loss:', score[0])\n",
    "print('Test accuracy:', score[1])"
   ]
  },
  {
   "cell_type": "code",
   "execution_count": 18,
   "metadata": {
    "scrolled": true
   },
   "outputs": [
    {
     "name": "stdout",
     "output_type": "stream",
     "text": [
      "[0.         2.346884   0.         1.4830291  0.         5.6981\n",
      " 3.7315495  0.         2.4944687  1.88477    0.         0.\n",
      " 0.         5.182816   0.         3.7897902  0.         0.\n",
      " 3.3383412  0.         0.         0.         0.         0.\n",
      " 0.         0.         2.3398333  0.         0.         0.\n",
      " 0.         0.842738   0.         0.         1.7298473  0.\n",
      " 0.         0.         0.12233143 0.         2.469835   3.1636043\n",
      " 0.         3.434959   2.0914068  2.0561464  0.7085275  1.6795285\n",
      " 0.9096425  0.         0.         4.502059   0.         2.057087\n",
      " 2.1732407  0.         0.         2.414703   3.3351784  0.\n",
      " 0.         3.9610467  2.7203493  0.         0.         0.\n",
      " 0.         3.0458772  0.         4.0171957  0.         0.\n",
      " 0.         1.8632638  0.         0.         2.3150337  0.\n",
      " 0.         0.         0.         1.555947   0.         0.\n",
      " 0.         0.         0.         3.9468243  1.6362149  0.\n",
      " 1.2251637  0.         0.         1.9968474  2.1679087  0.\n",
      " 2.5633688  0.9588103  3.2093086  0.         0.         0.\n",
      " 0.         2.1857026  0.         2.952389   0.         1.0883437\n",
      " 0.         0.         0.         1.334478   0.11588092 2.7745137\n",
      " 0.         0.         0.         4.15609    0.074387   0.\n",
      " 1.6304305  0.         0.         5.637909   4.9450364  0.\n",
      " 0.         0.        ]\n"
     ]
    }
   ],
   "source": [
    "encode_model = Model(inputs=model.input, outputs=model.get_layer('softmax').input)\n",
    "hidden_representation = encode_model.predict(x_test)\n",
    "print(hidden_representation[0])"
   ]
  }
 ],
 "metadata": {
  "kernelspec": {
   "display_name": "Python 3",
   "language": "python",
   "name": "python3"
  },
  "language_info": {
   "codemirror_mode": {
    "name": "ipython",
    "version": 3
   },
   "file_extension": ".py",
   "mimetype": "text/x-python",
   "name": "python",
   "nbconvert_exporter": "python",
   "pygments_lexer": "ipython3",
   "version": "3.6.8"
  }
 },
 "nbformat": 4,
 "nbformat_minor": 2
}
